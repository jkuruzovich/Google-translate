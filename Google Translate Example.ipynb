{
 "cells": [
  {
   "cell_type": "markdown",
   "metadata": {},
   "source": [
    "### Google Translate Example\n",
    "\n",
    "[Google Translate Documentation](https://google-api-client-libraries.appspot.com/documentation/translate/v2/python/latest/)\n",
    "\n",
    "[Google Python API Documentation](https://github.com/google/google-api-python-client/tree/master/samples)"
   ]
  },
  {
   "cell_type": "code",
   "execution_count": null,
   "metadata": {
    "collapsed": false
   },
   "outputs": [],
   "source": [
    "#Install the google python api Only need to run once.\n",
    "#!pip install --upgrade google-api-python-client"
   ]
  },
  {
   "cell_type": "code",
   "execution_count": 3,
   "metadata": {
    "collapsed": false
   },
   "outputs": [],
   "source": [
    "#This was adopted from the example found here: https://github.com/google/google-api-python-client/blob/master/samples/translate/main.py\n",
    "from __future__ import print_function\n",
    "from googleapiclient.discovery import build\n",
    "\n",
    "#set the translate Service\n",
    "service = build('translate', 'v2',\n",
    "        developerKey='<insertkey>')\n",
    "\n",
    "#This just creates a simple function we can use later.\n",
    "def translateText(wordList, sourceLang, targetLang):\n",
    "    result=service.translations().list(\n",
    "        source=sourceLang,\n",
    "        target=targetLang,\n",
    "        q=wordList\n",
    "        ).execute()\n",
    "    return result\n",
    "    \n",
    "\n"
   ]
  },
  {
   "cell_type": "markdown",
   "metadata": {},
   "source": [
    "## [12 Funny Spanish Sayings and Proverbs to Spice Up Your Learning](http://www.fluentu.com/spanish/blog/funny-spanish-sayings/)\n",
    "\n",
    "**Aunque la mona se vista de seda, mona se queda.**\n",
    "\n",
    "Literal translation: *Even if the female monkey dresses in silk, she will remain a female monkey.*\n",
    "\n",
    "English equivalent: *You can’t put lipstick on a pig.*\n"
   ]
  },
  {
   "cell_type": "code",
   "execution_count": 4,
   "metadata": {
    "collapsed": false
   },
   "outputs": [],
   "source": [
    "text=\"Aunque la mona se vista de seda, mona se queda.\"\n",
    "#es is spanish, En is english\n",
    "tran=translateText(text,'es','en',)"
   ]
  },
  {
   "cell_type": "code",
   "execution_count": 5,
   "metadata": {
    "collapsed": false
   },
   "outputs": [
    {
     "name": "stdout",
     "output_type": "stream",
     "text": [
      "[{'translatedText': 'Although the monkey in silk is still a monkey.'}]\n"
     ]
    }
   ],
   "source": [
    "print(tran['translations'])"
   ]
  }
 ],
 "metadata": {
  "kernelspec": {
   "display_name": "Python 3",
   "language": "python",
   "name": "python3"
  },
  "language_info": {
   "codemirror_mode": {
    "name": "ipython",
    "version": 3
   },
   "file_extension": ".py",
   "mimetype": "text/x-python",
   "name": "python",
   "nbconvert_exporter": "python",
   "pygments_lexer": "ipython3",
   "version": "3.5.2"
  }
 },
 "nbformat": 4,
 "nbformat_minor": 2
}
